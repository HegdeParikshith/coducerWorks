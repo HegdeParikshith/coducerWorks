{
 "cells": [
  {
   "cell_type": "code",
   "execution_count": 2,
   "metadata": {},
   "outputs": [],
   "source": [
    "from docx import Document\n",
    "from lxml import html\n",
    "from lxml.html import builder as E\n",
    "\n",
    "def convert_docx_to_html(docx_file, html_file):\n",
    "    # Load the DOCX document\n",
    "    doc = Document(docx_file)\n",
    "\n",
    "    # Create an HTML document\n",
    "    root = E.HTML()\n",
    "    body = E.BODY()\n",
    "    root.append(body)\n",
    "\n",
    "    # Iterate through paragraphs in the DOCX and convert to HTML\n",
    "    for paragraph in doc.paragraphs:\n",
    "        p = E.P()\n",
    "        for run in paragraph.runs:\n",
    "            # Apply formatting from runs (e.g., bold, italic)\n",
    "            if run.bold:\n",
    "                p.append(E.B(run.text))\n",
    "            elif run.italic:\n",
    "                p.append(E.I(run.text))\n",
    "            else:\n",
    "                p.append(run.text)\n",
    "\n",
    "        body.append(p)\n",
    "\n",
    "    # Save the HTML content to a file\n",
    "    with open(html_file, \"w\", encoding=\"utf-8\") as f:\n",
    "        f.write(html.tostring(root, pretty_print=True, encoding=\"utf-8\").decode(\"utf-8\"))"
   ]
  },
  {
   "cell_type": "code",
   "execution_count": null,
   "metadata": {},
   "outputs": [],
   "source": []
  }
 ],
 "metadata": {
  "kernelspec": {
   "display_name": "Python 3",
   "language": "python",
   "name": "python3"
  },
  "language_info": {
   "codemirror_mode": {
    "name": "ipython",
    "version": 3
   },
   "file_extension": ".py",
   "mimetype": "text/x-python",
   "name": "python",
   "nbconvert_exporter": "python",
   "pygments_lexer": "ipython3",
   "version": "3.10.12"
  }
 },
 "nbformat": 4,
 "nbformat_minor": 2
}
